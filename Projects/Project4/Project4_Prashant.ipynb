{
 "cells": [
  {
   "cell_type": "markdown",
   "metadata": {},
   "source": [
    "```\n",
    "Project:  Fletcher\n",
    "Date:     03/10/2017\n",
    "Name:     Prashant Tatineni\n",
    "```"
   ]
  },
  {
   "cell_type": "markdown",
   "metadata": {},
   "source": [
    "# Project Overview\n",
    "\n",
    "In this project, I use Twitter data to highlight the key issues being discussed related to the Demonetization event that occurred in India on January 1, 2017. Specifically, I use an old dataset of \"tweets\" with the tag #demonetization, downloaded via Kaggle, from late November 2016, when the Demonetization was announced. For comparison I also use tweets with the same tag downloaded via the Twitter API in March 2017.\n",
    "\n",
    "## Summary of Solution Steps\n",
    "1. Load the two sets of data.\n",
    "2. Apply TF/IDF\n",
    "3. Cluster using KMeans\n",
    "4. Sentiment analysis in data"
   ]
  },
  {
   "cell_type": "code",
   "execution_count": 63,
   "metadata": {
    "collapsed": true
   },
   "outputs": [],
   "source": [
    "# imports\n",
    "\n",
    "import pandas as pd\n",
    "import nltk\n",
    "from sklearn.cluster import KMeans\n",
    "import re\n",
    "import requests\n",
    "from requests_oauthlib import OAuth1\n",
    "from sklearn.feature_extraction.text import TfidfVectorizer\n",
    "from nltk.stem import WordNetLemmatizer\n",
    "from textblob import TextBlob\n",
    "from nltk.stem.porter import PorterStemmer\n",
    "import numpy as np\n",
    "from nltk.stem.snowball import SnowballStemmer\n",
    "from sklearn.metrics import silhouette_score\n",
    "import pickle\n",
    "import collections\n",
    "from sklearn.decomposition import PCA\n",
    "import unicodedata\n",
    "\n",
    "import matplotlib.pyplot as plt\n",
    "\n",
    "%matplotlib inline"
   ]
  },
  {
   "cell_type": "code",
   "execution_count": null,
   "metadata": {
    "collapsed": true
   },
   "outputs": [],
   "source": [
    "import cnfg\n",
    "config = cnfg.load(\".twitter_config\")\n",
    "\n",
    "oauth = OAuth1(config[\"consumer_key\"],\n",
    "               config[\"consumer_secret\"],\n",
    "               config[\"access_token\"],\n",
    "               config[\"access_token_secret\"])"
   ]
  },
  {
   "cell_type": "markdown",
   "metadata": {},
   "source": [
    "## Step 1: Load Data"
   ]
  },
  {
   "cell_type": "code",
   "execution_count": null,
   "metadata": {
    "collapsed": true
   },
   "outputs": [],
   "source": [
    "df = pd.read_csv('data/raw/demonetization-tweets.csv')"
   ]
  },
  {
   "cell_type": "code",
   "execution_count": 65,
   "metadata": {
    "collapsed": false
   },
   "outputs": [
    {
     "data": {
      "text/html": [
       "<div>\n",
       "<table border=\"1\" class=\"dataframe\">\n",
       "  <thead>\n",
       "    <tr style=\"text-align: right;\">\n",
       "      <th></th>\n",
       "      <th>Unnamed: 0</th>\n",
       "      <th>text</th>\n",
       "      <th>favorited</th>\n",
       "      <th>favoriteCount</th>\n",
       "      <th>replyToSN</th>\n",
       "      <th>created</th>\n",
       "      <th>truncated</th>\n",
       "      <th>replyToSID</th>\n",
       "      <th>id</th>\n",
       "      <th>replyToUID</th>\n",
       "      <th>statusSource</th>\n",
       "      <th>screenName</th>\n",
       "      <th>retweetCount</th>\n",
       "      <th>isRetweet</th>\n",
       "      <th>retweeted</th>\n",
       "    </tr>\n",
       "  </thead>\n",
       "  <tbody>\n",
       "    <tr>\n",
       "      <th>0</th>\n",
       "      <td>1</td>\n",
       "      <td>RT @rssurjewala: Critical question: Was PayTM ...</td>\n",
       "      <td>False</td>\n",
       "      <td>0</td>\n",
       "      <td>NaN</td>\n",
       "      <td>2016-11-23 18:40:30</td>\n",
       "      <td>False</td>\n",
       "      <td>NaN</td>\n",
       "      <td>801495656976318464</td>\n",
       "      <td>NaN</td>\n",
       "      <td>&lt;a href=\"http://twitter.com/download/android\" ...</td>\n",
       "      <td>HASHTAGFARZIWAL</td>\n",
       "      <td>331</td>\n",
       "      <td>True</td>\n",
       "      <td>False</td>\n",
       "    </tr>\n",
       "    <tr>\n",
       "      <th>1</th>\n",
       "      <td>2</td>\n",
       "      <td>RT @Hemant_80: Did you vote on #Demonetization...</td>\n",
       "      <td>False</td>\n",
       "      <td>0</td>\n",
       "      <td>NaN</td>\n",
       "      <td>2016-11-23 18:40:29</td>\n",
       "      <td>False</td>\n",
       "      <td>NaN</td>\n",
       "      <td>801495654778413057</td>\n",
       "      <td>NaN</td>\n",
       "      <td>&lt;a href=\"http://twitter.com/download/android\" ...</td>\n",
       "      <td>PRAMODKAUSHIK9</td>\n",
       "      <td>66</td>\n",
       "      <td>True</td>\n",
       "      <td>False</td>\n",
       "    </tr>\n",
       "    <tr>\n",
       "      <th>2</th>\n",
       "      <td>3</td>\n",
       "      <td>RT @roshankar: Former FinSec, RBI Dy Governor,...</td>\n",
       "      <td>False</td>\n",
       "      <td>0</td>\n",
       "      <td>NaN</td>\n",
       "      <td>2016-11-23 18:40:03</td>\n",
       "      <td>False</td>\n",
       "      <td>NaN</td>\n",
       "      <td>801495544266821632</td>\n",
       "      <td>NaN</td>\n",
       "      <td>&lt;a href=\"http://twitter.com/download/android\" ...</td>\n",
       "      <td>rahulja13034944</td>\n",
       "      <td>12</td>\n",
       "      <td>True</td>\n",
       "      <td>False</td>\n",
       "    </tr>\n",
       "    <tr>\n",
       "      <th>3</th>\n",
       "      <td>4</td>\n",
       "      <td>RT @ANI_news: Gurugram (Haryana): Post office ...</td>\n",
       "      <td>False</td>\n",
       "      <td>0</td>\n",
       "      <td>NaN</td>\n",
       "      <td>2016-11-23 18:39:59</td>\n",
       "      <td>False</td>\n",
       "      <td>NaN</td>\n",
       "      <td>801495527024160768</td>\n",
       "      <td>NaN</td>\n",
       "      <td>&lt;a href=\"http://twitter.com/download/android\" ...</td>\n",
       "      <td>deeptiyvd</td>\n",
       "      <td>338</td>\n",
       "      <td>True</td>\n",
       "      <td>False</td>\n",
       "    </tr>\n",
       "    <tr>\n",
       "      <th>4</th>\n",
       "      <td>5</td>\n",
       "      <td>RT @satishacharya: Reddy Wedding! @mail_today ...</td>\n",
       "      <td>False</td>\n",
       "      <td>0</td>\n",
       "      <td>NaN</td>\n",
       "      <td>2016-11-23 18:39:39</td>\n",
       "      <td>False</td>\n",
       "      <td>NaN</td>\n",
       "      <td>801495445583360002</td>\n",
       "      <td>NaN</td>\n",
       "      <td>&lt;a href=\"http://cpimharyana.com\" rel=\"nofollow...</td>\n",
       "      <td>CPIMBadli</td>\n",
       "      <td>120</td>\n",
       "      <td>True</td>\n",
       "      <td>False</td>\n",
       "    </tr>\n",
       "  </tbody>\n",
       "</table>\n",
       "</div>"
      ],
      "text/plain": [
       "   Unnamed: 0                                               text favorited  \\\n",
       "0           1  RT @rssurjewala: Critical question: Was PayTM ...     False   \n",
       "1           2  RT @Hemant_80: Did you vote on #Demonetization...     False   \n",
       "2           3  RT @roshankar: Former FinSec, RBI Dy Governor,...     False   \n",
       "3           4  RT @ANI_news: Gurugram (Haryana): Post office ...     False   \n",
       "4           5  RT @satishacharya: Reddy Wedding! @mail_today ...     False   \n",
       "\n",
       "   favoriteCount replyToSN              created truncated  replyToSID  \\\n",
       "0              0       NaN  2016-11-23 18:40:30     False         NaN   \n",
       "1              0       NaN  2016-11-23 18:40:29     False         NaN   \n",
       "2              0       NaN  2016-11-23 18:40:03     False         NaN   \n",
       "3              0       NaN  2016-11-23 18:39:59     False         NaN   \n",
       "4              0       NaN  2016-11-23 18:39:39     False         NaN   \n",
       "\n",
       "                   id  replyToUID  \\\n",
       "0  801495656976318464         NaN   \n",
       "1  801495654778413057         NaN   \n",
       "2  801495544266821632         NaN   \n",
       "3  801495527024160768         NaN   \n",
       "4  801495445583360002         NaN   \n",
       "\n",
       "                                        statusSource       screenName  \\\n",
       "0  <a href=\"http://twitter.com/download/android\" ...  HASHTAGFARZIWAL   \n",
       "1  <a href=\"http://twitter.com/download/android\" ...   PRAMODKAUSHIK9   \n",
       "2  <a href=\"http://twitter.com/download/android\" ...  rahulja13034944   \n",
       "3  <a href=\"http://twitter.com/download/android\" ...        deeptiyvd   \n",
       "4  <a href=\"http://cpimharyana.com\" rel=\"nofollow...        CPIMBadli   \n",
       "\n",
       "   retweetCount isRetweet retweeted  \n",
       "0           331      True     False  \n",
       "1            66      True     False  \n",
       "2            12      True     False  \n",
       "3           338      True     False  \n",
       "4           120      True     False  "
      ]
     },
     "execution_count": 65,
     "metadata": {},
     "output_type": "execute_result"
    }
   ],
   "source": [
    "df.head()"
   ]
  },
  {
   "cell_type": "code",
   "execution_count": null,
   "metadata": {
    "collapsed": true
   },
   "outputs": [],
   "source": [
    "# RESTful search API\n",
    "all_tweets = []\n",
    "search_url = \"https://api.twitter.com/1.1/search/tweets.json\"\n",
    "parameters = {\"q\": \"#demonetisation\", \"count\":100, \"lang\": \"en\"}\n",
    "response = requests.get(search_url,\n",
    "                        params = parameters,\n",
    "                        auth=oauth)\n",
    "\n",
    "for tweet in response.json()['statuses']:\n",
    "    all_tweets.append(tweet['text'])\n",
    "\n",
    "for _ in range(99):\n",
    "    if 'next_results' in response.json()['search_metadata'].keys():\n",
    "        next_page_url = search_url + response.json()['search_metadata']['next_results']\n",
    "        response = requests.get(next_page_url, auth=oauth)\n",
    "        for tweet in response.json()['statuses']:\n",
    "            all_tweets.append(tweet['text'])\n",
    "    else:\n",
    "        break"
   ]
  },
  {
   "cell_type": "code",
   "execution_count": null,
   "metadata": {
    "collapsed": true
   },
   "outputs": [],
   "source": [
    "X = pd.DataFrame(all_tweets)"
   ]
  },
  {
   "cell_type": "code",
   "execution_count": null,
   "metadata": {
    "collapsed": true
   },
   "outputs": [],
   "source": [
    "with open('data/new_tweets.pkl', 'wb') as picklefile:\n",
    "    pickle.dump(X, picklefile)"
   ]
  },
  {
   "cell_type": "markdown",
   "metadata": {},
   "source": [
    "## Step 2: Apply TF/IDF"
   ]
  },
  {
   "cell_type": "code",
   "execution_count": 67,
   "metadata": {
    "collapsed": true
   },
   "outputs": [],
   "source": [
    "def tokenize_func(text):\n",
    "    if text[:2] == 'RT':\n",
    "        text = text.partition(':')[2]\n",
    "    tokens = nltk.word_tokenize(text)\n",
    "    filtered_tokens = []\n",
    "    for token in tokens:\n",
    "        token = re.sub('[^A-Za-z]', '', token).strip()\n",
    "        if token not in ['demonetization','demonetisation','https','amp','rt','']:\n",
    "            filtered_tokens.append(token)\n",
    "    return filtered_tokens"
   ]
  },
  {
   "cell_type": "code",
   "execution_count": 68,
   "metadata": {
    "collapsed": false
   },
   "outputs": [],
   "source": [
    "tfidf_vectorizer = TfidfVectorizer(max_df=0.97, min_df=0.03, max_features=200000,\n",
    "                                 stop_words='english', decode_error='ignore',\n",
    "                                 tokenizer=tokenize_func, ngram_range=(1,3))"
   ]
  },
  {
   "cell_type": "code",
   "execution_count": 69,
   "metadata": {
    "collapsed": false
   },
   "outputs": [
    {
     "name": "stdout",
     "output_type": "stream",
     "text": [
      "CPU times: user 3.26 s, sys: 24.2 ms, total: 3.29 s\n",
      "Wall time: 3.28 s\n"
     ]
    }
   ],
   "source": [
    "%time tfidf_matrix = tfidf_vectorizer.fit_transform(df['text']) #fit the vectorizer to tweets"
   ]
  },
  {
   "cell_type": "code",
   "execution_count": 70,
   "metadata": {
    "collapsed": false
   },
   "outputs": [
    {
     "name": "stdout",
     "output_type": "stream",
     "text": [
      "(8000, 163)\n"
     ]
    }
   ],
   "source": [
    "print tfidf_matrix.shape"
   ]
  },
  {
   "cell_type": "code",
   "execution_count": 71,
   "metadata": {
    "collapsed": true
   },
   "outputs": [],
   "source": [
    "from sklearn.metrics.pairwise import cosine_similarity\n",
    "dist = 1 - cosine_similarity(tfidf_matrix)"
   ]
  },
  {
   "cell_type": "markdown",
   "metadata": {},
   "source": [
    "## Step 3: Kmeans Clustering"
   ]
  },
  {
   "cell_type": "code",
   "execution_count": 12,
   "metadata": {
    "collapsed": false
   },
   "outputs": [],
   "source": [
    "Inertia = []\n",
    "Sil_coefs = []\n",
    "for k in range(2,10):\n",
    "    km = KMeans(n_clusters=k, random_state=42)\n",
    "    km.fit(tfidf_matrix)\n",
    "    labels = km.labels_\n",
    "    Sil_coefs.append(silhouette_score(tfidf_matrix, labels, metric='euclidean'))\n",
    "    Inertia.append(km.inertia_)"
   ]
  },
  {
   "cell_type": "code",
   "execution_count": 17,
   "metadata": {
    "collapsed": false
   },
   "outputs": [
    {
     "data": {
      "image/png": "[encoded data removed]",
      "text/plain": [
       "<matplotlib.figure.Figure at 0x114a84810>"
      ]
     },
     "metadata": {},
     "output_type": "display_data"
    }
   ],
   "source": [
    "fig, (ax1, ax2) = plt.subplots(1,2, figsize=(15,5), sharex=True)\n",
    "k_clusters = range(2,10)\n",
    "ax1.plot(k_clusters, Sil_coefs)\n",
    "ax1.set_xlabel('number of clusters')\n",
    "ax1.set_ylabel('silhouette score')\n",
    "\n",
    "# plot here on ax2\n",
    "ax2.plot(k_clusters, Inertia)\n",
    "ax2.set_xlabel('number of clusters')\n",
    "ax2.set_ylabel('Inertia');"
   ]
  },
  {
   "cell_type": "code",
   "execution_count": 72,
   "metadata": {
    "collapsed": true
   },
   "outputs": [],
   "source": [
    "km = KMeans(n_clusters=3)\n",
    "km.fit(tfidf_matrix)\n",
    "clusters = km.labels_.tolist()"
   ]
  },
  {
   "cell_type": "code",
   "execution_count": 74,
   "metadata": {
    "collapsed": false
   },
   "outputs": [
    {
     "data": {
      "text/plain": [
       "Counter({0: 6876, 1: 542, 2: 582})"
      ]
     },
     "execution_count": 74,
     "metadata": {},
     "output_type": "execute_result"
    }
   ],
   "source": [
    "collections.Counter(km.labels_)"
   ]
  },
  {
   "cell_type": "code",
   "execution_count": 75,
   "metadata": {
    "collapsed": false
   },
   "outputs": [],
   "source": [
    "pca = PCA(n_components=2)\n",
    "km_pca = pca.fit_transform(dist)\n",
    "xs, ys = km_pca[:,0], km_pca[:,1]"
   ]
  },
  {
   "cell_type": "code",
   "execution_count": 95,
   "metadata": {
    "collapsed": false
   },
   "outputs": [
    {
     "data": {
      "image/png": "[encoded data removed]",
      "text/plain": [
       "<matplotlib.figure.Figure at 0x1196d4390>"
      ]
     },
     "metadata": {},
     "output_type": "display_data"
    }
   ],
   "source": [
    "fig, ax = plt.subplots()\n",
    "plt.scatter(xs,ys,c=clusters, cmap='Accent')\n",
    "plt.colorbar(ticks=[0,1,2])\n",
    "ax.tick_params(axis='x',bottom='off',labelbottom='off')\n",
    "ax.tick_params(axis='y',left='off',labelleft='off')"
   ]
  },
  {
   "cell_type": "code",
   "execution_count": 77,
   "metadata": {
    "collapsed": true
   },
   "outputs": [],
   "source": [
    "order_centroids = km.cluster_centers_.argsort()[:, ::-1] "
   ]
  },
  {
   "cell_type": "code",
   "execution_count": 78,
   "metadata": {
    "collapsed": false
   },
   "outputs": [],
   "source": [
    "terms = tfidf_vectorizer.get_feature_names()"
   ]
  },
  {
   "cell_type": "code",
   "execution_count": 98,
   "metadata": {
    "collapsed": false
   },
   "outputs": [
    {
     "name": "stdout",
     "output_type": "stream",
     "text": [
      "('Cluster----------', 0)\n",
      "s\n",
      "modi\n",
      "people\n",
      "narendramodi\n",
      "pm\n",
      "nt\n",
      "india\n",
      "support\n",
      "t\n",
      "govt\n",
      "('Cluster----------', 1)\n",
      "incident s\n",
      "looted bank kishtwar\n",
      "rs lakh looted\n",
      "lakh looted bank\n",
      "kishtwar j k\n",
      "kishtwar j\n",
      "k incident s\n",
      "k incident\n",
      "j k incident\n",
      "s terrorists\n",
      "('Cluster----------', 2)\n",
      "ed\n",
      "ua\n",
      "ed ua\n",
      "ed ub\n",
      "ub\n",
      "ed ua ubd\n",
      "ua ubd\n",
      "ua ubd ed\n",
      "ubd ed ub\n",
      "ubd ed\n"
     ]
    }
   ],
   "source": [
    "for i in range(3):\n",
    "    print('Cluster----------',i)\n",
    "    for x in order_centroids[i,:10]:\n",
    "        print(terms[x])"
   ]
  },
  {
   "cell_type": "code",
   "execution_count": 81,
   "metadata": {
    "collapsed": false
   },
   "outputs": [],
   "source": [
    "df['clusters'] = clusters"
   ]
  },
  {
   "cell_type": "code",
   "execution_count": 104,
   "metadata": {
    "collapsed": false
   },
   "outputs": [
    {
     "data": {
      "text/plain": [
       "'gauravcsawant'"
      ]
     },
     "execution_count": 104,
     "metadata": {},
     "output_type": "execute_result"
    }
   ],
   "source": [
    "df[df.clusters == 1]['screenName'][4340]"
   ]
  },
  {
   "cell_type": "markdown",
   "metadata": {},
   "source": [
    "## Step 4: Sentiment"
   ]
  },
  {
   "cell_type": "code",
   "execution_count": 106,
   "metadata": {
    "collapsed": false
   },
   "outputs": [],
   "source": [
    "df['sentiment'] = df['text'].apply(lambda x: TextBlob(unicode(x, errors='ignore')).sentiment[0])"
   ]
  },
  {
   "cell_type": "code",
   "execution_count": 108,
   "metadata": {
    "collapsed": false
   },
   "outputs": [
    {
     "data": {
      "image/png": "[encoded data removed]",
      "text/plain": [
       "<matplotlib.figure.Figure at 0x119a2ce90>"
      ]
     },
     "metadata": {},
     "output_type": "display_data"
    }
   ],
   "source": [
    "fig, ax = plt.subplots()\n",
    "plt.scatter(xs,ys, c=df['sentiment'], cmap='cool')\n",
    "plt.colorbar()\n",
    "ax.tick_params(axis='x',bottom='off',labelbottom='off')\n",
    "ax.tick_params(axis='y',left='off',labelleft='off')"
   ]
  },
  {
   "cell_type": "code",
   "execution_count": 117,
   "metadata": {
    "collapsed": false
   },
   "outputs": [
    {
     "data": {
      "text/plain": [
       "'SwachhPolitics'"
      ]
     },
     "execution_count": 117,
     "metadata": {},
     "output_type": "execute_result"
    }
   ],
   "source": [
    "df.sort_values('sentiment')['screenName'][6402]"
   ]
  },
  {
   "cell_type": "markdown",
   "metadata": {},
   "source": [
    "## Repeat above process with new tweets from API in March 2017"
   ]
  },
  {
   "cell_type": "code",
   "execution_count": 120,
   "metadata": {
    "collapsed": true
   },
   "outputs": [],
   "source": [
    "with open(\"data/new_tweets.pkl\", 'rb') as picklefile: \n",
    "    new_tweets = pickle.load(picklefile)"
   ]
  },
  {
   "cell_type": "code",
   "execution_count": 3,
   "metadata": {
    "collapsed": false
   },
   "outputs": [
    {
     "data": {
      "text/html": [
       "<div>\n",
       "<table border=\"1\" class=\"dataframe\">\n",
       "  <thead>\n",
       "    <tr style=\"text-align: right;\">\n",
       "      <th></th>\n",
       "      <th>0</th>\n",
       "    </tr>\n",
       "  </thead>\n",
       "  <tbody>\n",
       "    <tr>\n",
       "      <th>0</th>\n",
       "      <td>RT @steve_hanke: Indian economic indicators on...</td>\n",
       "    </tr>\n",
       "    <tr>\n",
       "      <th>1</th>\n",
       "      <td>RT @jairajp: Oops…! Looks like PayTM Boss is T...</td>\n",
       "    </tr>\n",
       "    <tr>\n",
       "      <th>2</th>\n",
       "      <td>RT @jairajp: Oops…! Looks like PayTM Boss is T...</td>\n",
       "    </tr>\n",
       "    <tr>\n",
       "      <th>3</th>\n",
       "      <td>Oops…! Looks like PayTM Boss is True Bhakt… Hi...</td>\n",
       "    </tr>\n",
       "    <tr>\n",
       "      <th>4</th>\n",
       "      <td>RT @bewithswami: Another example of  #demoneti...</td>\n",
       "    </tr>\n",
       "    <tr>\n",
       "      <th>5</th>\n",
       "      <td>Another example of  #demonetization failure -c...</td>\n",
       "    </tr>\n",
       "    <tr>\n",
       "      <th>6</th>\n",
       "      <td>RT @vinitgoenka: With the World Bank CEO laudi...</td>\n",
       "    </tr>\n",
       "    <tr>\n",
       "      <th>7</th>\n",
       "      <td>RT @vs_vanshi: Now confirmed..This is legalise...</td>\n",
       "    </tr>\n",
       "    <tr>\n",
       "      <th>8</th>\n",
       "      <td>RT @Prashantsameer: Is this benifit of #demone...</td>\n",
       "    </tr>\n",
       "    <tr>\n",
       "      <th>9</th>\n",
       "      <td>RT @vinitgoenka: With the World Bank CEO laudi...</td>\n",
       "    </tr>\n",
       "    <tr>\n",
       "      <th>10</th>\n",
       "      <td>RT @Prashantsameer: Is this benifit of #demone...</td>\n",
       "    </tr>\n",
       "    <tr>\n",
       "      <th>11</th>\n",
       "      <td>RT @rajivvijayakar: #Demonetization scores hig...</td>\n",
       "    </tr>\n",
       "    <tr>\n",
       "      <th>12</th>\n",
       "      <td>RT @vinitgoenka: With the World Bank CEO laudi...</td>\n",
       "    </tr>\n",
       "    <tr>\n",
       "      <th>13</th>\n",
       "      <td>RT @vinitgoenka: With the World Bank CEO laudi...</td>\n",
       "    </tr>\n",
       "    <tr>\n",
       "      <th>14</th>\n",
       "      <td>Now confirmed..This is legalised loot and plun...</td>\n",
       "    </tr>\n",
       "    <tr>\n",
       "      <th>15</th>\n",
       "      <td>RT @patelameet: Read the entire thread for a 1...</td>\n",
       "    </tr>\n",
       "    <tr>\n",
       "      <th>16</th>\n",
       "      <td>RT @superman_suresh: As a common tax payer. It...</td>\n",
       "    </tr>\n",
       "    <tr>\n",
       "      <th>17</th>\n",
       "      <td>RT @patelameet: Read the entire thread for a 1...</td>\n",
       "    </tr>\n",
       "    <tr>\n",
       "      <th>18</th>\n",
       "      <td>RT @patelameet: Read the entire thread for a 1...</td>\n",
       "    </tr>\n",
       "    <tr>\n",
       "      <th>19</th>\n",
       "      <td>RT @patelameet: Read the entire thread for a 1...</td>\n",
       "    </tr>\n",
       "    <tr>\n",
       "      <th>20</th>\n",
       "      <td>RT @patelameet: Read the entire thread for a 1...</td>\n",
       "    </tr>\n",
       "    <tr>\n",
       "      <th>21</th>\n",
       "      <td>Read the entire thread for a 1st hand experien...</td>\n",
       "    </tr>\n",
       "    <tr>\n",
       "      <th>22</th>\n",
       "      <td>https://t.co/v7EAPqnctq Bullshit! #Demonetizat...</td>\n",
       "    </tr>\n",
       "    <tr>\n",
       "      <th>23</th>\n",
       "      <td>RT @steve_hanke: Indian economic indicators on...</td>\n",
       "    </tr>\n",
       "    <tr>\n",
       "      <th>24</th>\n",
       "      <td>@maana2006 its #big if #ExitPolls are to be \"b...</td>\n",
       "    </tr>\n",
       "    <tr>\n",
       "      <th>25</th>\n",
       "      <td>#ExitPoll2017: No side effects of #Demonetizat...</td>\n",
       "    </tr>\n",
       "    <tr>\n",
       "      <th>26</th>\n",
       "      <td>RT @jay_ambadi: United States has POTUS, and\\r...</td>\n",
       "    </tr>\n",
       "    <tr>\n",
       "      <th>27</th>\n",
       "      <td>@TheHindu #Demonetization achievements. Never ...</td>\n",
       "    </tr>\n",
       "    <tr>\n",
       "      <th>28</th>\n",
       "      <td>#MT (#Demonetization) Bonanza for banks and @r...</td>\n",
       "    </tr>\n",
       "    <tr>\n",
       "      <th>29</th>\n",
       "      <td>RT @steve_hanke: Indian economic indicators on...</td>\n",
       "    </tr>\n",
       "    <tr>\n",
       "      <th>...</th>\n",
       "      <td>...</td>\n",
       "    </tr>\n",
       "    <tr>\n",
       "      <th>2040</th>\n",
       "      <td>#Banks are now institutionally robbing custome...</td>\n",
       "    </tr>\n",
       "    <tr>\n",
       "      <th>2041</th>\n",
       "      <td>Watch from 2:20 onwards...#DeMonetisation nays...</td>\n",
       "    </tr>\n",
       "    <tr>\n",
       "      <th>2042</th>\n",
       "      <td>RT @CRISILLimited: .@EconomistDK, Chief Econom...</td>\n",
       "    </tr>\n",
       "    <tr>\n",
       "      <th>2043</th>\n",
       "      <td>RT @SachinPilot: #DeMonetisation will hurt the...</td>\n",
       "    </tr>\n",
       "    <tr>\n",
       "      <th>2044</th>\n",
       "      <td>Transactions charges blow to idea of #DigitalI...</td>\n",
       "    </tr>\n",
       "    <tr>\n",
       "      <th>2045</th>\n",
       "      <td>@cpimspeak #Prabhat Patnaik #DeMonetisation is...</td>\n",
       "    </tr>\n",
       "    <tr>\n",
       "      <th>2046</th>\n",
       "      <td>#CashlessEconomy RBI Data showing decline is d...</td>\n",
       "    </tr>\n",
       "    <tr>\n",
       "      <th>2047</th>\n",
       "      <td>RT @Outlookindia: #DelhiGovt Blames Centre, Sa...</td>\n",
       "    </tr>\n",
       "    <tr>\n",
       "      <th>2048</th>\n",
       "      <td>That's Modi impact! Shopkeeper displaying cost...</td>\n",
       "    </tr>\n",
       "    <tr>\n",
       "      <th>2049</th>\n",
       "      <td>@cpimspeak #Prabhat Patnaik lecture at AMU #De...</td>\n",
       "    </tr>\n",
       "    <tr>\n",
       "      <th>2050</th>\n",
       "      <td>Yeh to hona he tha... nothing comes free 🙈 #D...</td>\n",
       "    </tr>\n",
       "    <tr>\n",
       "      <th>2051</th>\n",
       "      <td>RT @Outlookindia: #DelhiGovt Blames Centre, Sa...</td>\n",
       "    </tr>\n",
       "    <tr>\n",
       "      <th>2052</th>\n",
       "      <td>We ensured that our customers in the #East &amp;am...</td>\n",
       "    </tr>\n",
       "    <tr>\n",
       "      <th>2053</th>\n",
       "      <td>@bhupendrachaube predicted #UPElection2017 for...</td>\n",
       "    </tr>\n",
       "    <tr>\n",
       "      <th>2054</th>\n",
       "      <td>@dhanyarajendran  hey by the way I heard your ...</td>\n",
       "    </tr>\n",
       "    <tr>\n",
       "      <th>2055</th>\n",
       "      <td>RT @Outlookindia: #DelhiGovt Blames Centre, Sa...</td>\n",
       "    </tr>\n",
       "    <tr>\n",
       "      <th>2056</th>\n",
       "      <td>RT @Outlookindia: #DelhiGovt Blames Centre, Sa...</td>\n",
       "    </tr>\n",
       "    <tr>\n",
       "      <th>2057</th>\n",
       "      <td>#DelhiGovt Blames Centre, Says '#Demonetisatio...</td>\n",
       "    </tr>\n",
       "    <tr>\n",
       "      <th>2058</th>\n",
       "      <td>RT @Raj4AK: #Demonetisation pushes #India’s bi...</td>\n",
       "    </tr>\n",
       "    <tr>\n",
       "      <th>2059</th>\n",
       "      <td>@PMOIndia @narendramodi There will be detailed...</td>\n",
       "    </tr>\n",
       "    <tr>\n",
       "      <th>2060</th>\n",
       "      <td>Is #demonetisation &amp;amp; the push towards #dig...</td>\n",
       "    </tr>\n",
       "    <tr>\n",
       "      <th>2061</th>\n",
       "      <td>#Demonetisation pushes #India’s billionaires d...</td>\n",
       "    </tr>\n",
       "    <tr>\n",
       "      <th>2062</th>\n",
       "      <td>How Will Demonetization Affect Business in Ind...</td>\n",
       "    </tr>\n",
       "    <tr>\n",
       "      <th>2063</th>\n",
       "      <td>@RBI Sir, Is there a time frame for crediting ...</td>\n",
       "    </tr>\n",
       "    <tr>\n",
       "      <th>2064</th>\n",
       "      <td>RT @shriayyangar: Well, Thank you so much!!! L...</td>\n",
       "    </tr>\n",
       "    <tr>\n",
       "      <th>2065</th>\n",
       "      <td>Well, Thank you so much!!! Loot us more in the...</td>\n",
       "    </tr>\n",
       "    <tr>\n",
       "      <th>2066</th>\n",
       "      <td>@IndianExpress effects of #DeMonetisation towa...</td>\n",
       "    </tr>\n",
       "    <tr>\n",
       "      <th>2067</th>\n",
       "      <td>Just as #DeMonetisation added to citizens’ woe...</td>\n",
       "    </tr>\n",
       "    <tr>\n",
       "      <th>2068</th>\n",
       "      <td>RT @CRISILLimited: .@EconomistDK, Chief Econom...</td>\n",
       "    </tr>\n",
       "    <tr>\n",
       "      <th>2069</th>\n",
       "      <td>in MODI ji's typical #MITRON style 4 #DeMoneti...</td>\n",
       "    </tr>\n",
       "  </tbody>\n",
       "</table>\n",
       "<p>2070 rows × 1 columns</p>\n",
       "</div>"
      ],
      "text/plain": [
       "                                                      0\n",
       "0     RT @steve_hanke: Indian economic indicators on...\n",
       "1     RT @jairajp: Oops…! Looks like PayTM Boss is T...\n",
       "2     RT @jairajp: Oops…! Looks like PayTM Boss is T...\n",
       "3     Oops…! Looks like PayTM Boss is True Bhakt… Hi...\n",
       "4     RT @bewithswami: Another example of  #demoneti...\n",
       "5     Another example of  #demonetization failure -c...\n",
       "6     RT @vinitgoenka: With the World Bank CEO laudi...\n",
       "7     RT @vs_vanshi: Now confirmed..This is legalise...\n",
       "8     RT @Prashantsameer: Is this benifit of #demone...\n",
       "9     RT @vinitgoenka: With the World Bank CEO laudi...\n",
       "10    RT @Prashantsameer: Is this benifit of #demone...\n",
       "11    RT @rajivvijayakar: #Demonetization scores hig...\n",
       "12    RT @vinitgoenka: With the World Bank CEO laudi...\n",
       "13    RT @vinitgoenka: With the World Bank CEO laudi...\n",
       "14    Now confirmed..This is legalised loot and plun...\n",
       "15    RT @patelameet: Read the entire thread for a 1...\n",
       "16    RT @superman_suresh: As a common tax payer. It...\n",
       "17    RT @patelameet: Read the entire thread for a 1...\n",
       "18    RT @patelameet: Read the entire thread for a 1...\n",
       "19    RT @patelameet: Read the entire thread for a 1...\n",
       "20    RT @patelameet: Read the entire thread for a 1...\n",
       "21    Read the entire thread for a 1st hand experien...\n",
       "22    https://t.co/v7EAPqnctq Bullshit! #Demonetizat...\n",
       "23    RT @steve_hanke: Indian economic indicators on...\n",
       "24    @maana2006 its #big if #ExitPolls are to be \"b...\n",
       "25    #ExitPoll2017: No side effects of #Demonetizat...\n",
       "26    RT @jay_ambadi: United States has POTUS, and\\r...\n",
       "27    @TheHindu #Demonetization achievements. Never ...\n",
       "28    #MT (#Demonetization) Bonanza for banks and @r...\n",
       "29    RT @steve_hanke: Indian economic indicators on...\n",
       "...                                                 ...\n",
       "2040  #Banks are now institutionally robbing custome...\n",
       "2041  Watch from 2:20 onwards...#DeMonetisation nays...\n",
       "2042  RT @CRISILLimited: .@EconomistDK, Chief Econom...\n",
       "2043  RT @SachinPilot: #DeMonetisation will hurt the...\n",
       "2044  Transactions charges blow to idea of #DigitalI...\n",
       "2045  @cpimspeak #Prabhat Patnaik #DeMonetisation is...\n",
       "2046  #CashlessEconomy RBI Data showing decline is d...\n",
       "2047  RT @Outlookindia: #DelhiGovt Blames Centre, Sa...\n",
       "2048  That's Modi impact! Shopkeeper displaying cost...\n",
       "2049  @cpimspeak #Prabhat Patnaik lecture at AMU #De...\n",
       "2050  Yeh to hona he tha... nothing comes free 🙈 #D...\n",
       "2051  RT @Outlookindia: #DelhiGovt Blames Centre, Sa...\n",
       "2052  We ensured that our customers in the #East &am...\n",
       "2053  @bhupendrachaube predicted #UPElection2017 for...\n",
       "2054  @dhanyarajendran  hey by the way I heard your ...\n",
       "2055  RT @Outlookindia: #DelhiGovt Blames Centre, Sa...\n",
       "2056  RT @Outlookindia: #DelhiGovt Blames Centre, Sa...\n",
       "2057  #DelhiGovt Blames Centre, Says '#Demonetisatio...\n",
       "2058  RT @Raj4AK: #Demonetisation pushes #India’s bi...\n",
       "2059  @PMOIndia @narendramodi There will be detailed...\n",
       "2060  Is #demonetisation &amp; the push towards #dig...\n",
       "2061  #Demonetisation pushes #India’s billionaires d...\n",
       "2062  How Will Demonetization Affect Business in Ind...\n",
       "2063  @RBI Sir, Is there a time frame for crediting ...\n",
       "2064  RT @shriayyangar: Well, Thank you so much!!! L...\n",
       "2065  Well, Thank you so much!!! Loot us more in the...\n",
       "2066  @IndianExpress effects of #DeMonetisation towa...\n",
       "2067  Just as #DeMonetisation added to citizens’ woe...\n",
       "2068  RT @CRISILLimited: .@EconomistDK, Chief Econom...\n",
       "2069  in MODI ji's typical #MITRON style 4 #DeMoneti...\n",
       "\n",
       "[2070 rows x 1 columns]"
      ]
     },
     "execution_count": 3,
     "metadata": {},
     "output_type": "execute_result"
    }
   ],
   "source": [
    "new_tweets"
   ]
  },
  {
   "cell_type": "code",
   "execution_count": 121,
   "metadata": {
    "collapsed": false
   },
   "outputs": [],
   "source": [
    "new_tweets.columns = ['text']"
   ]
  },
  {
   "cell_type": "code",
   "execution_count": 122,
   "metadata": {
    "collapsed": false
   },
   "outputs": [
    {
     "name": "stdout",
     "output_type": "stream",
     "text": [
      "CPU times: user 860 ms, sys: 20.5 ms, total: 881 ms\n",
      "Wall time: 871 ms\n"
     ]
    }
   ],
   "source": [
    "%time tfidf2 = tfidf_vectorizer.fit_transform(new_tweets['text']) #fit the vectorizer to tweets"
   ]
  },
  {
   "cell_type": "code",
   "execution_count": 123,
   "metadata": {
    "collapsed": false
   },
   "outputs": [
    {
     "name": "stdout",
     "output_type": "stream",
     "text": [
      "(2070, 162)\n"
     ]
    }
   ],
   "source": [
    "print tfidf2.shape"
   ]
  },
  {
   "cell_type": "code",
   "execution_count": 124,
   "metadata": {
    "collapsed": true
   },
   "outputs": [],
   "source": [
    "from sklearn.metrics.pairwise import cosine_similarity\n",
    "dist = 1 - cosine_similarity(tfidf2)"
   ]
  },
  {
   "cell_type": "code",
   "execution_count": 125,
   "metadata": {
    "collapsed": true
   },
   "outputs": [],
   "source": [
    "km = KMeans(n_clusters=3)\n",
    "km.fit(tfidf2)\n",
    "clusters = km.labels_.tolist()"
   ]
  },
  {
   "cell_type": "code",
   "execution_count": 126,
   "metadata": {
    "collapsed": true
   },
   "outputs": [],
   "source": [
    "pca = PCA(n_components=2)\n",
    "km_pca = pca.fit_transform(dist)\n",
    "xs, ys = km_pca[:,0], km_pca[:,1]"
   ]
  },
  {
   "cell_type": "code",
   "execution_count": 127,
   "metadata": {
    "collapsed": false
   },
   "outputs": [
    {
     "data": {
      "image/png": "[encoded data removed]",
      "text/plain": [
       "<matplotlib.figure.Figure at 0x123e12ad0>"
      ]
     },
     "metadata": {},
     "output_type": "display_data"
    }
   ],
   "source": [
    "fig, ax = plt.subplots()\n",
    "plt.scatter(xs,ys,c=clusters, cmap='Accent')\n",
    "plt.colorbar(ticks=[0,1,2])\n",
    "ax.tick_params(axis='x',bottom='off',labelbottom='off')\n",
    "ax.tick_params(axis='y',left='off',labelleft='off')"
   ]
  },
  {
   "cell_type": "code",
   "execution_count": 128,
   "metadata": {
    "collapsed": true
   },
   "outputs": [],
   "source": [
    "order_centroids = km.cluster_centers_.argsort()[:, ::-1] "
   ]
  },
  {
   "cell_type": "code",
   "execution_count": 129,
   "metadata": {
    "collapsed": true
   },
   "outputs": [],
   "source": [
    "terms = tfidf_vectorizer.get_feature_names()"
   ]
  },
  {
   "cell_type": "code",
   "execution_count": 130,
   "metadata": {
    "collapsed": false
   },
   "outputs": [
    {
     "name": "stdout",
     "output_type": "stream",
     "text": [
      "('Cluster----------', 0)\n",
      "india\n",
      "s\n",
      "indias\n",
      "new\n",
      "bjp\n",
      "cash\n",
      "gdp\n",
      "delhi\n",
      "people\n",
      "positive\n",
      "('Cluster----------', 1)\n",
      "thieving policy\n",
      "slowed indian economy\n",
      "thieving\n",
      "policy slowed\n",
      "policy slowed indian\n",
      "thieving policy slowed\n",
      "s thieving\n",
      "s thieving policy\n",
      "modi s thieving\n",
      "slowed\n",
      "('Cluster----------', 2)\n",
      "modi\n",
      "modi did past\n",
      "country streets\n",
      "streets\n",
      "brought country streets\n",
      "brought country\n",
      "past brought country\n",
      "past brought\n",
      "did past brought\n",
      "did past\n"
     ]
    }
   ],
   "source": [
    "for i in range(3):\n",
    "    print('Cluster----------',i)\n",
    "    for x in order_centroids[i,:10]:\n",
    "        print(terms[x])"
   ]
  },
  {
   "cell_type": "code",
   "execution_count": 26,
   "metadata": {
    "collapsed": false
   },
   "outputs": [
    {
     "data": {
      "text/plain": [
       "Counter({0: 356, 1: 138, 2: 1576})"
      ]
     },
     "execution_count": 26,
     "metadata": {},
     "output_type": "execute_result"
    }
   ],
   "source": [
    "collections.Counter(km.labels_)"
   ]
  },
  {
   "cell_type": "code",
   "execution_count": 132,
   "metadata": {
    "collapsed": false
   },
   "outputs": [],
   "source": [
    "new_tweets['cluster'] = clusters"
   ]
  },
  {
   "cell_type": "code",
   "execution_count": 133,
   "metadata": {
    "collapsed": false
   },
   "outputs": [
    {
     "data": {
      "text/html": [
       "<div>\n",
       "<table border=\"1\" class=\"dataframe\">\n",
       "  <thead>\n",
       "    <tr style=\"text-align: right;\">\n",
       "      <th></th>\n",
       "      <th>text</th>\n",
       "      <th>cluster</th>\n",
       "    </tr>\n",
       "  </thead>\n",
       "  <tbody>\n",
       "    <tr>\n",
       "      <th>150</th>\n",
       "      <td>RT @steve_hanke: Modi's thieving #Demonetizati...</td>\n",
       "      <td>1</td>\n",
       "    </tr>\n",
       "    <tr>\n",
       "      <th>213</th>\n",
       "      <td>RT @steve_hanke: Modi's thieving #Demonetizati...</td>\n",
       "      <td>1</td>\n",
       "    </tr>\n",
       "    <tr>\n",
       "      <th>299</th>\n",
       "      <td>RT @steve_hanke: Modi's thieving #Demonetizati...</td>\n",
       "      <td>1</td>\n",
       "    </tr>\n",
       "    <tr>\n",
       "      <th>356</th>\n",
       "      <td>Modi's thieving #Demonetization policy has slo...</td>\n",
       "      <td>1</td>\n",
       "    </tr>\n",
       "    <tr>\n",
       "      <th>360</th>\n",
       "      <td>RT @steve_hanke: Modi's thieving #Demonetizati...</td>\n",
       "      <td>1</td>\n",
       "    </tr>\n",
       "    <tr>\n",
       "      <th>373</th>\n",
       "      <td>RT @DrSalamAnsari: Modi's thieving #Demonetiza...</td>\n",
       "      <td>1</td>\n",
       "    </tr>\n",
       "    <tr>\n",
       "      <th>375</th>\n",
       "      <td>Modi's thieving #Demonetization policy has slo...</td>\n",
       "      <td>1</td>\n",
       "    </tr>\n",
       "    <tr>\n",
       "      <th>376</th>\n",
       "      <td>RT @steve_hanke: Modi's thieving #Demonetizati...</td>\n",
       "      <td>1</td>\n",
       "    </tr>\n",
       "    <tr>\n",
       "      <th>378</th>\n",
       "      <td>RT @steve_hanke: Modi's thieving #Demonetizati...</td>\n",
       "      <td>1</td>\n",
       "    </tr>\n",
       "    <tr>\n",
       "      <th>380</th>\n",
       "      <td>RT @steve_hanke: Modi's thieving #Demonetizati...</td>\n",
       "      <td>1</td>\n",
       "    </tr>\n",
       "    <tr>\n",
       "      <th>390</th>\n",
       "      <td>Modi's thieving #Demonetization policy has slo...</td>\n",
       "      <td>1</td>\n",
       "    </tr>\n",
       "    <tr>\n",
       "      <th>393</th>\n",
       "      <td>RT @steve_hanke: Modi's thieving #Demonetizati...</td>\n",
       "      <td>1</td>\n",
       "    </tr>\n",
       "    <tr>\n",
       "      <th>400</th>\n",
       "      <td>Retweeted Prof. Steve Hanke (@steve_hanke):\\n\\...</td>\n",
       "      <td>1</td>\n",
       "    </tr>\n",
       "    <tr>\n",
       "      <th>401</th>\n",
       "      <td>RT @steve_hanke: Modi's thieving #Demonetizati...</td>\n",
       "      <td>1</td>\n",
       "    </tr>\n",
       "    <tr>\n",
       "      <th>405</th>\n",
       "      <td>RT @steve_hanke: Modi's thieving #Demonetizati...</td>\n",
       "      <td>1</td>\n",
       "    </tr>\n",
       "    <tr>\n",
       "      <th>406</th>\n",
       "      <td>RT @steve_hanke: Modi's thieving #Demonetizati...</td>\n",
       "      <td>1</td>\n",
       "    </tr>\n",
       "    <tr>\n",
       "      <th>407</th>\n",
       "      <td>RT @steve_hanke: Modi's thieving #Demonetizati...</td>\n",
       "      <td>1</td>\n",
       "    </tr>\n",
       "    <tr>\n",
       "      <th>410</th>\n",
       "      <td>RT @steve_hanke: Modi's thieving #Demonetizati...</td>\n",
       "      <td>1</td>\n",
       "    </tr>\n",
       "    <tr>\n",
       "      <th>411</th>\n",
       "      <td>RT @steve_hanke: Modi's thieving #Demonetizati...</td>\n",
       "      <td>1</td>\n",
       "    </tr>\n",
       "    <tr>\n",
       "      <th>415</th>\n",
       "      <td>RT @steve_hanke: Modi's thieving #Demonetizati...</td>\n",
       "      <td>1</td>\n",
       "    </tr>\n",
       "    <tr>\n",
       "      <th>426</th>\n",
       "      <td>RT @steve_hanke: Modi's thieving #Demonetizati...</td>\n",
       "      <td>1</td>\n",
       "    </tr>\n",
       "    <tr>\n",
       "      <th>429</th>\n",
       "      <td>RT @steve_hanke: Modi's thieving #Demonetizati...</td>\n",
       "      <td>1</td>\n",
       "    </tr>\n",
       "    <tr>\n",
       "      <th>430</th>\n",
       "      <td>RT @steve_hanke: Modi's thieving #Demonetizati...</td>\n",
       "      <td>1</td>\n",
       "    </tr>\n",
       "    <tr>\n",
       "      <th>433</th>\n",
       "      <td>RT @steve_hanke: Modi's thieving #Demonetizati...</td>\n",
       "      <td>1</td>\n",
       "    </tr>\n",
       "    <tr>\n",
       "      <th>435</th>\n",
       "      <td>RT @steve_hanke: Modi's thieving #Demonetizati...</td>\n",
       "      <td>1</td>\n",
       "    </tr>\n",
       "    <tr>\n",
       "      <th>438</th>\n",
       "      <td>RT @steve_hanke: Modi's thieving #Demonetizati...</td>\n",
       "      <td>1</td>\n",
       "    </tr>\n",
       "    <tr>\n",
       "      <th>439</th>\n",
       "      <td>RT @steve_hanke: Modi's thieving #Demonetizati...</td>\n",
       "      <td>1</td>\n",
       "    </tr>\n",
       "    <tr>\n",
       "      <th>440</th>\n",
       "      <td>RT @steve_hanke: Modi's thieving #Demonetizati...</td>\n",
       "      <td>1</td>\n",
       "    </tr>\n",
       "    <tr>\n",
       "      <th>450</th>\n",
       "      <td>RT @steve_hanke: Modi's thieving #Demonetizati...</td>\n",
       "      <td>1</td>\n",
       "    </tr>\n",
       "    <tr>\n",
       "      <th>453</th>\n",
       "      <td>RT @steve_hanke: Modi's thieving #Demonetizati...</td>\n",
       "      <td>1</td>\n",
       "    </tr>\n",
       "    <tr>\n",
       "      <th>...</th>\n",
       "      <td>...</td>\n",
       "      <td>...</td>\n",
       "    </tr>\n",
       "    <tr>\n",
       "      <th>1091</th>\n",
       "      <td>RT @steve_hanke: Modi's thieving #Demonetizati...</td>\n",
       "      <td>1</td>\n",
       "    </tr>\n",
       "    <tr>\n",
       "      <th>1103</th>\n",
       "      <td>RT @steve_hanke: Modi's thieving #Demonetizati...</td>\n",
       "      <td>1</td>\n",
       "    </tr>\n",
       "    <tr>\n",
       "      <th>1107</th>\n",
       "      <td>RT @steve_hanke: Modi's thieving #Demonetizati...</td>\n",
       "      <td>1</td>\n",
       "    </tr>\n",
       "    <tr>\n",
       "      <th>1109</th>\n",
       "      <td>RT @steve_hanke: Modi's thieving #Demonetizati...</td>\n",
       "      <td>1</td>\n",
       "    </tr>\n",
       "    <tr>\n",
       "      <th>1110</th>\n",
       "      <td>RT @steve_hanke: Modi's thieving #Demonetizati...</td>\n",
       "      <td>1</td>\n",
       "    </tr>\n",
       "    <tr>\n",
       "      <th>1111</th>\n",
       "      <td>RT @steve_hanke: Modi's thieving #Demonetizati...</td>\n",
       "      <td>1</td>\n",
       "    </tr>\n",
       "    <tr>\n",
       "      <th>1112</th>\n",
       "      <td>RT @steve_hanke: Modi's thieving #Demonetizati...</td>\n",
       "      <td>1</td>\n",
       "    </tr>\n",
       "    <tr>\n",
       "      <th>1114</th>\n",
       "      <td>RT @steve_hanke: Modi's thieving #Demonetizati...</td>\n",
       "      <td>1</td>\n",
       "    </tr>\n",
       "    <tr>\n",
       "      <th>1115</th>\n",
       "      <td>RT @steve_hanke: Modi's thieving #Demonetizati...</td>\n",
       "      <td>1</td>\n",
       "    </tr>\n",
       "    <tr>\n",
       "      <th>1116</th>\n",
       "      <td>RT @steve_hanke: Modi's thieving #Demonetizati...</td>\n",
       "      <td>1</td>\n",
       "    </tr>\n",
       "    <tr>\n",
       "      <th>1117</th>\n",
       "      <td>RT @steve_hanke: Modi's thieving #Demonetizati...</td>\n",
       "      <td>1</td>\n",
       "    </tr>\n",
       "    <tr>\n",
       "      <th>1118</th>\n",
       "      <td>RT @steve_hanke: Modi's thieving #Demonetizati...</td>\n",
       "      <td>1</td>\n",
       "    </tr>\n",
       "    <tr>\n",
       "      <th>1120</th>\n",
       "      <td>RT @steve_hanke: Modi's thieving #Demonetizati...</td>\n",
       "      <td>1</td>\n",
       "    </tr>\n",
       "    <tr>\n",
       "      <th>1121</th>\n",
       "      <td>RT @steve_hanke: Modi's thieving #Demonetizati...</td>\n",
       "      <td>1</td>\n",
       "    </tr>\n",
       "    <tr>\n",
       "      <th>1122</th>\n",
       "      <td>RT @steve_hanke: Modi's thieving #Demonetizati...</td>\n",
       "      <td>1</td>\n",
       "    </tr>\n",
       "    <tr>\n",
       "      <th>1123</th>\n",
       "      <td>RT @steve_hanke: Modi's thieving #Demonetizati...</td>\n",
       "      <td>1</td>\n",
       "    </tr>\n",
       "    <tr>\n",
       "      <th>1124</th>\n",
       "      <td>RT @steve_hanke: Modi's thieving #Demonetizati...</td>\n",
       "      <td>1</td>\n",
       "    </tr>\n",
       "    <tr>\n",
       "      <th>1125</th>\n",
       "      <td>RT @steve_hanke: Modi's thieving #Demonetizati...</td>\n",
       "      <td>1</td>\n",
       "    </tr>\n",
       "    <tr>\n",
       "      <th>1126</th>\n",
       "      <td>RT @steve_hanke: Modi's thieving #Demonetizati...</td>\n",
       "      <td>1</td>\n",
       "    </tr>\n",
       "    <tr>\n",
       "      <th>1127</th>\n",
       "      <td>RT @steve_hanke: Modi's thieving #Demonetizati...</td>\n",
       "      <td>1</td>\n",
       "    </tr>\n",
       "    <tr>\n",
       "      <th>1128</th>\n",
       "      <td>RT @steve_hanke: Modi's thieving #Demonetizati...</td>\n",
       "      <td>1</td>\n",
       "    </tr>\n",
       "    <tr>\n",
       "      <th>1129</th>\n",
       "      <td>RT @steve_hanke: Modi's thieving #Demonetizati...</td>\n",
       "      <td>1</td>\n",
       "    </tr>\n",
       "    <tr>\n",
       "      <th>1130</th>\n",
       "      <td>RT @steve_hanke: Modi's thieving #Demonetizati...</td>\n",
       "      <td>1</td>\n",
       "    </tr>\n",
       "    <tr>\n",
       "      <th>1131</th>\n",
       "      <td>RT @steve_hanke: Modi's thieving #Demonetizati...</td>\n",
       "      <td>1</td>\n",
       "    </tr>\n",
       "    <tr>\n",
       "      <th>1132</th>\n",
       "      <td>RT @steve_hanke: Modi's thieving #Demonetizati...</td>\n",
       "      <td>1</td>\n",
       "    </tr>\n",
       "    <tr>\n",
       "      <th>1133</th>\n",
       "      <td>RT @steve_hanke: Modi's thieving #Demonetizati...</td>\n",
       "      <td>1</td>\n",
       "    </tr>\n",
       "    <tr>\n",
       "      <th>1134</th>\n",
       "      <td>RT @steve_hanke: Modi's thieving #Demonetizati...</td>\n",
       "      <td>1</td>\n",
       "    </tr>\n",
       "    <tr>\n",
       "      <th>1135</th>\n",
       "      <td>RT @steve_hanke: Modi's thieving #Demonetizati...</td>\n",
       "      <td>1</td>\n",
       "    </tr>\n",
       "    <tr>\n",
       "      <th>1136</th>\n",
       "      <td>RT @steve_hanke: Modi's thieving #Demonetizati...</td>\n",
       "      <td>1</td>\n",
       "    </tr>\n",
       "    <tr>\n",
       "      <th>1137</th>\n",
       "      <td>Modi's thieving #Demonetization policy has slo...</td>\n",
       "      <td>1</td>\n",
       "    </tr>\n",
       "  </tbody>\n",
       "</table>\n",
       "<p>356 rows × 2 columns</p>\n",
       "</div>"
      ],
      "text/plain": [
       "                                                   text  cluster\n",
       "150   RT @steve_hanke: Modi's thieving #Demonetizati...        1\n",
       "213   RT @steve_hanke: Modi's thieving #Demonetizati...        1\n",
       "299   RT @steve_hanke: Modi's thieving #Demonetizati...        1\n",
       "356   Modi's thieving #Demonetization policy has slo...        1\n",
       "360   RT @steve_hanke: Modi's thieving #Demonetizati...        1\n",
       "373   RT @DrSalamAnsari: Modi's thieving #Demonetiza...        1\n",
       "375   Modi's thieving #Demonetization policy has slo...        1\n",
       "376   RT @steve_hanke: Modi's thieving #Demonetizati...        1\n",
       "378   RT @steve_hanke: Modi's thieving #Demonetizati...        1\n",
       "380   RT @steve_hanke: Modi's thieving #Demonetizati...        1\n",
       "390   Modi's thieving #Demonetization policy has slo...        1\n",
       "393   RT @steve_hanke: Modi's thieving #Demonetizati...        1\n",
       "400   Retweeted Prof. Steve Hanke (@steve_hanke):\\n\\...        1\n",
       "401   RT @steve_hanke: Modi's thieving #Demonetizati...        1\n",
       "405   RT @steve_hanke: Modi's thieving #Demonetizati...        1\n",
       "406   RT @steve_hanke: Modi's thieving #Demonetizati...        1\n",
       "407   RT @steve_hanke: Modi's thieving #Demonetizati...        1\n",
       "410   RT @steve_hanke: Modi's thieving #Demonetizati...        1\n",
       "411   RT @steve_hanke: Modi's thieving #Demonetizati...        1\n",
       "415   RT @steve_hanke: Modi's thieving #Demonetizati...        1\n",
       "426   RT @steve_hanke: Modi's thieving #Demonetizati...        1\n",
       "429   RT @steve_hanke: Modi's thieving #Demonetizati...        1\n",
       "430   RT @steve_hanke: Modi's thieving #Demonetizati...        1\n",
       "433   RT @steve_hanke: Modi's thieving #Demonetizati...        1\n",
       "435   RT @steve_hanke: Modi's thieving #Demonetizati...        1\n",
       "438   RT @steve_hanke: Modi's thieving #Demonetizati...        1\n",
       "439   RT @steve_hanke: Modi's thieving #Demonetizati...        1\n",
       "440   RT @steve_hanke: Modi's thieving #Demonetizati...        1\n",
       "450   RT @steve_hanke: Modi's thieving #Demonetizati...        1\n",
       "453   RT @steve_hanke: Modi's thieving #Demonetizati...        1\n",
       "...                                                 ...      ...\n",
       "1091  RT @steve_hanke: Modi's thieving #Demonetizati...        1\n",
       "1103  RT @steve_hanke: Modi's thieving #Demonetizati...        1\n",
       "1107  RT @steve_hanke: Modi's thieving #Demonetizati...        1\n",
       "1109  RT @steve_hanke: Modi's thieving #Demonetizati...        1\n",
       "1110  RT @steve_hanke: Modi's thieving #Demonetizati...        1\n",
       "1111  RT @steve_hanke: Modi's thieving #Demonetizati...        1\n",
       "1112  RT @steve_hanke: Modi's thieving #Demonetizati...        1\n",
       "1114  RT @steve_hanke: Modi's thieving #Demonetizati...        1\n",
       "1115  RT @steve_hanke: Modi's thieving #Demonetizati...        1\n",
       "1116  RT @steve_hanke: Modi's thieving #Demonetizati...        1\n",
       "1117  RT @steve_hanke: Modi's thieving #Demonetizati...        1\n",
       "1118  RT @steve_hanke: Modi's thieving #Demonetizati...        1\n",
       "1120  RT @steve_hanke: Modi's thieving #Demonetizati...        1\n",
       "1121  RT @steve_hanke: Modi's thieving #Demonetizati...        1\n",
       "1122  RT @steve_hanke: Modi's thieving #Demonetizati...        1\n",
       "1123  RT @steve_hanke: Modi's thieving #Demonetizati...        1\n",
       "1124  RT @steve_hanke: Modi's thieving #Demonetizati...        1\n",
       "1125  RT @steve_hanke: Modi's thieving #Demonetizati...        1\n",
       "1126  RT @steve_hanke: Modi's thieving #Demonetizati...        1\n",
       "1127  RT @steve_hanke: Modi's thieving #Demonetizati...        1\n",
       "1128  RT @steve_hanke: Modi's thieving #Demonetizati...        1\n",
       "1129  RT @steve_hanke: Modi's thieving #Demonetizati...        1\n",
       "1130  RT @steve_hanke: Modi's thieving #Demonetizati...        1\n",
       "1131  RT @steve_hanke: Modi's thieving #Demonetizati...        1\n",
       "1132  RT @steve_hanke: Modi's thieving #Demonetizati...        1\n",
       "1133  RT @steve_hanke: Modi's thieving #Demonetizati...        1\n",
       "1134  RT @steve_hanke: Modi's thieving #Demonetizati...        1\n",
       "1135  RT @steve_hanke: Modi's thieving #Demonetizati...        1\n",
       "1136  RT @steve_hanke: Modi's thieving #Demonetizati...        1\n",
       "1137  Modi's thieving #Demonetization policy has slo...        1\n",
       "\n",
       "[356 rows x 2 columns]"
      ]
     },
     "execution_count": 133,
     "metadata": {},
     "output_type": "execute_result"
    }
   ],
   "source": [
    "new_tweets[new_tweets.cluster == 1]"
   ]
  },
  {
   "cell_type": "code",
   "execution_count": 134,
   "metadata": {
    "collapsed": false
   },
   "outputs": [
    {
     "data": {
      "text/plain": [
       "u\"Modi's thieving #Demonetization policy has slowed the Indian economy to worst Q growth since 2014. Not good folks. https://t.co/4WsSHNUjEx\""
      ]
     },
     "execution_count": 134,
     "metadata": {},
     "output_type": "execute_result"
    }
   ],
   "source": [
    "new_tweets['text'][1137]"
   ]
  },
  {
   "cell_type": "code",
   "execution_count": 144,
   "metadata": {
    "collapsed": false
   },
   "outputs": [],
   "source": [
    "new_tweets['sentiment'] = new_tweets['text'].apply(lambda x: TextBlob(x).sentiment[0])"
   ]
  },
  {
   "cell_type": "code",
   "execution_count": 145,
   "metadata": {
    "collapsed": false
   },
   "outputs": [
    {
     "data": {
      "image/png": "[encoded data removed]",
      "text/plain": [
       "<matplotlib.figure.Figure at 0x11979d750>"
      ]
     },
     "metadata": {},
     "output_type": "display_data"
    }
   ],
   "source": [
    "fig, ax = plt.subplots()\n",
    "plt.scatter(xs,ys, c=new_tweets['sentiment'], cmap='cool')\n",
    "plt.colorbar()\n",
    "ax.tick_params(axis='x',bottom='off',labelbottom='off')\n",
    "ax.tick_params(axis='y',left='off',labelleft='off')"
   ]
  }
 ],
 "metadata": {
  "kernelspec": {
   "display_name": "Python [conda root]",
   "language": "python",
   "name": "conda-root-py"
  },
  "language_info": {
   "codemirror_mode": {
    "name": "ipython",
    "version": 2
   },
   "file_extension": ".py",
   "mimetype": "text/x-python",
   "name": "python",
   "nbconvert_exporter": "python",
   "pygments_lexer": "ipython2",
   "version": "2.7.13"
  }
 },
 "nbformat": 4,
 "nbformat_minor": 2
}
