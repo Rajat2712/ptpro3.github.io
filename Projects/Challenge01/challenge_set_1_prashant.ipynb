{
 "cells": [
  {
   "cell_type": "markdown",
   "metadata": {
    "collapsed": false
   },
   "source": [
    "`\n",
    "Topic:    Challenge Set 1\n",
    "Subject:  Explore MTA turnstile data\n",
    "Date:     01/23/2017\n",
    "Name:     Prashant Tatineni\n",
    "`"
   ]
  },
  {
   "cell_type": "markdown",
   "metadata": {},
   "source": [
    "**Challenge 1**"
   ]
  },
  {
   "cell_type": "code",
   "execution_count": 1,
   "metadata": {
    "collapsed": false
   },
   "outputs": [],
   "source": [
    "import pandas as pd"
   ]
  },
  {
   "cell_type": "code",
   "execution_count": 2,
   "metadata": {
    "collapsed": true
   },
   "outputs": [],
   "source": [
    "wk1 = pd.read_csv('http://web.mta.info/developers/data/nyct/turnstile/turnstile_161224.txt')\n",
    "wk2 = pd.read_csv('http://web.mta.info/developers/data/nyct/turnstile/turnstile_161231.txt')\n",
    "wk3 = pd.read_csv('http://web.mta.info/developers/data/nyct/turnstile/turnstile_170107.txt')\n",
    "wk4 = pd.read_csv('http://web.mta.info/developers/data/nyct/turnstile/turnstile_170114.txt')"
   ]
  },
  {
   "cell_type": "code",
   "execution_count": 3,
   "metadata": {
    "collapsed": true
   },
   "outputs": [],
   "source": [
    "wk1.columns = ['C/A','UNIT','SCP','STATION','LINENAME','DIVISION','DATE','TIME','DESC','ENTRIES','EXITS']\n",
    "wk2.columns = ['C/A','UNIT','SCP','STATION','LINENAME','DIVISION','DATE','TIME','DESC','ENTRIES','EXITS']\n",
    "wk3.columns = ['C/A','UNIT','SCP','STATION','LINENAME','DIVISION','DATE','TIME','DESC','ENTRIES','EXITS']\n",
    "wk4.columns = ['C/A','UNIT','SCP','STATION','LINENAME','DIVISION','DATE','TIME','DESC','ENTRIES','EXITS']"
   ]
  },
  {
   "cell_type": "code",
   "execution_count": 9,
   "metadata": {
    "collapsed": false
   },
   "outputs": [],
   "source": [
    "MTA_dict = {}\n",
    "for index, row in wk1.iterrows():\n",
    "    MTA_dict.setdefault((row['C/A'],row['UNIT'],row['SCP'],row['STATION']),[]).append([row['LINENAME'],row['DIVISION'],row['DATE'],row['TIME'],row['DESC'],row['ENTRIES'],row['EXITS']])"
   ]
  },
  {
   "cell_type": "code",
   "execution_count": 14,
   "metadata": {
    "collapsed": false
   },
   "outputs": [
    {
     "data": {
      "text/plain": [
       "[['A', 'IND', '12/17/2016', '00:00:00', 'REGULAR', 7586070, 2968637],\n",
       " ['A', 'IND', '12/17/2016', '04:00:00', 'REGULAR', 7586115, 2968663],\n",
       " ['A', 'IND', '12/17/2016', '08:00:00', 'REGULAR', 7586266, 2968726]]"
      ]
     },
     "execution_count": 14,
     "metadata": {},
     "output_type": "execute_result"
    }
   ],
   "source": [
    "MTA_dict['N134','R385','00-00-00','ROCKAWAY BLVD'][0:3]"
   ]
  },
  {
   "cell_type": "markdown",
   "metadata": {},
   "source": [
    "**Challenge 2**"
   ]
  },
  {
   "cell_type": "code",
   "execution_count": 15,
   "metadata": {
    "collapsed": true
   },
   "outputs": [],
   "source": [
    "import dateutil"
   ]
  },
  {
   "cell_type": "code",
   "execution_count": 16,
   "metadata": {
    "collapsed": false
   },
   "outputs": [],
   "source": [
    "MTA_time = {}\n",
    "for index, row in wk1.iterrows():\n",
    "    MTA_time.setdefault((row['C/A'],row['UNIT'],row['SCP'],row['STATION']),[]).append([dateutil.parser.parse(row['DATE'] + ' ' + row['TIME']),row['ENTRIES']])"
   ]
  },
  {
   "cell_type": "code",
   "execution_count": 29,
   "metadata": {
    "collapsed": false
   },
   "outputs": [
    {
     "data": {
      "text/plain": [
       "[[datetime.datetime(2016, 12, 17, 0, 0), 7586070],\n",
       " [datetime.datetime(2016, 12, 17, 4, 0), 7586115],\n",
       " [datetime.datetime(2016, 12, 17, 8, 0), 7586266]]"
      ]
     },
     "execution_count": 29,
     "metadata": {},
     "output_type": "execute_result"
    }
   ],
   "source": [
    "MTA_time['N134','R385','00-00-00','ROCKAWAY BLVD'][0:3]"
   ]
  },
  {
   "cell_type": "markdown",
   "metadata": {},
   "source": [
    "**Challenge 3**"
   ]
  },
  {
   "cell_type": "code",
   "execution_count": 26,
   "metadata": {
    "collapsed": false
   },
   "outputs": [],
   "source": [
    "import datetime\n",
    "\n",
    "MTA_date = {}\n",
    "for key in MTA_time:\n",
    "    newList = []\n",
    "    for i in range(0,len(MTA_time[key]),6):\n",
    "        if i+5 < len(MTA_time[key]):\n",
    "            newList.append([MTA_time[key][i][0].date(), MTA_time[key][i+5][1] - MTA_time[key][i][1]])\n",
    "    MTA_date[key] = newList"
   ]
  },
  {
   "cell_type": "code",
   "execution_count": 27,
   "metadata": {
    "collapsed": false
   },
   "outputs": [
    {
     "data": {
      "text/plain": [
       "[[datetime.date(2016, 12, 17), 781],\n",
       " [datetime.date(2016, 12, 18), 605],\n",
       " [datetime.date(2016, 12, 19), 1339]]"
      ]
     },
     "execution_count": 27,
     "metadata": {},
     "output_type": "execute_result"
    }
   ],
   "source": [
    "MTA_date['N134','R385','00-00-00','ROCKAWAY BLVD'][0:3]"
   ]
  },
  {
   "cell_type": "markdown",
   "metadata": {},
   "source": [
    "**Challenge 4**"
   ]
  },
  {
   "cell_type": "code",
   "execution_count": 30,
   "metadata": {
    "collapsed": true
   },
   "outputs": [],
   "source": [
    "%matplotlib inline\n",
    "import matplotlib.pyplot as plt"
   ]
  },
  {
   "cell_type": "code",
   "execution_count": 31,
   "metadata": {
    "collapsed": true
   },
   "outputs": [],
   "source": [
    "dates = [i[0] for i in MTA_date['N134','R385','00-00-00','ROCKAWAY BLVD']]\n",
    "counts = [i[1] for i in MTA_date['N134','R385','00-00-00','ROCKAWAY BLVD']]"
   ]
  },
  {
   "cell_type": "code",
   "execution_count": 32,
   "metadata": {
    "collapsed": false
   },
   "outputs": [
    {
     "data": {
      "text/plain": [
       "[<matplotlib.lines.Line2D at 0x11f3ce190>]"
      ]
     },
     "execution_count": 32,
     "metadata": {},
     "output_type": "execute_result"
    },
    {
     "data": {
      "image/png": "[encoded data removed]",
      "text/plain": [
       "<matplotlib.figure.Figure at 0x11f0ec990>"
      ]
     },
     "metadata": {},
     "output_type": "display_data"
    }
   ],
   "source": [
    "plt.figure(figsize=(10,3))\n",
    "plt.plot(dates,counts)"
   ]
  },
  {
   "cell_type": "markdown",
   "metadata": {},
   "source": [
    "**Challenge 5**"
   ]
  },
  {
   "cell_type": "code",
   "execution_count": 162,
   "metadata": {
    "collapsed": false
   },
   "outputs": [
    {
     "data": {
      "text/plain": [
       "{('A002', 'R051', '02-00-00', '59 ST'): [[datetime.date(2016, 12, 31), 1092],\n",
       "  [datetime.date(2017, 1, 1), 797]]}"
      ]
     },
     "execution_count": 162,
     "metadata": {},
     "output_type": "execute_result"
    }
   ],
   "source": [
    "MTA_date"
   ]
  },
  {
   "cell_type": "code",
   "execution_count": 33,
   "metadata": {
    "collapsed": false
   },
   "outputs": [],
   "source": [
    "MTA_date_station = {}\n",
    "for key in MTA_date:\n",
    "    MTA_date_station.setdefault((key[0],key[1],key[3]),[]).append([key[2],MTA_date[key]])"
   ]
  },
  {
   "cell_type": "code",
   "execution_count": 35,
   "metadata": {
    "collapsed": false
   },
   "outputs": [
    {
     "data": {
      "text/plain": [
       "['00-00-00',\n",
       " [[datetime.date(2016, 12, 17), 781],\n",
       "  [datetime.date(2016, 12, 18), 605],\n",
       "  [datetime.date(2016, 12, 19), 1339],\n",
       "  [datetime.date(2016, 12, 20), 1397],\n",
       "  [datetime.date(2016, 12, 21), 1381],\n",
       "  [datetime.date(2016, 12, 22), 1366],\n",
       "  [datetime.date(2016, 12, 23), 1250]]]"
      ]
     },
     "execution_count": 35,
     "metadata": {},
     "output_type": "execute_result"
    }
   ],
   "source": [
    "MTA_date_station['N134','R385','ROCKAWAY BLVD'][0]"
   ]
  },
  {
   "cell_type": "markdown",
   "metadata": {},
   "source": [
    "**Challenge 6**"
   ]
  },
  {
   "cell_type": "code",
   "execution_count": 36,
   "metadata": {
    "collapsed": false
   },
   "outputs": [],
   "source": [
    "MTA_date_station_ts = {}\n",
    "for key in MTA_date_station:\n",
    "    ts = {}\n",
    "    for turnstile in MTA_date_station[key]:\n",
    "        for i in turnstile[1]:\n",
    "            ts.setdefault(i[0],0)\n",
    "            ts[i[0]] += i[1]\n",
    "    MTA_date_station_ts[key] = ts"
   ]
  },
  {
   "cell_type": "code",
   "execution_count": 40,
   "metadata": {
    "collapsed": false
   },
   "outputs": [
    {
     "data": {
      "text/plain": [
       "{datetime.date(2016, 12, 17): 2467,\n",
       " datetime.date(2016, 12, 18): 1634,\n",
       " datetime.date(2016, 12, 19): 4024,\n",
       " datetime.date(2016, 12, 20): 4068,\n",
       " datetime.date(2016, 12, 21): 4131,\n",
       " datetime.date(2016, 12, 22): 3949,\n",
       " datetime.date(2016, 12, 23): 3666}"
      ]
     },
     "execution_count": 40,
     "metadata": {},
     "output_type": "execute_result"
    }
   ],
   "source": [
    "MTA_date_station_ts['N134','R385','ROCKAWAY BLVD']"
   ]
  },
  {
   "cell_type": "markdown",
   "metadata": {},
   "source": [
    "**Challenge 7**"
   ]
  },
  {
   "cell_type": "code",
   "execution_count": 49,
   "metadata": {
    "collapsed": false
   },
   "outputs": [],
   "source": [
    "dates = sorted(MTA_date_station_ts['N134','R385','ROCKAWAY BLVD'].keys())"
   ]
  },
  {
   "cell_type": "code",
   "execution_count": 51,
   "metadata": {
    "collapsed": false
   },
   "outputs": [],
   "source": [
    "counts = []\n",
    "for date in dates:\n",
    "    counts += [MTA_date_station_ts['N134','R385','ROCKAWAY BLVD'][date]]"
   ]
  },
  {
   "cell_type": "code",
   "execution_count": 52,
   "metadata": {
    "collapsed": false
   },
   "outputs": [
    {
     "data": {
      "text/plain": [
       "[<matplotlib.lines.Line2D at 0x11fceea50>]"
      ]
     },
     "execution_count": 52,
     "metadata": {},
     "output_type": "execute_result"
    },
    {
     "data": {
      "image/png": "[encoded data removed]",
      "text/plain": [
       "<matplotlib.figure.Figure at 0x11fb42c90>"
      ]
     },
     "metadata": {},
     "output_type": "display_data"
    }
   ],
   "source": [
    "plt.figure(figsize=(10,3))\n",
    "plt.plot(dates,counts)"
   ]
  },
  {
   "cell_type": "markdown",
   "metadata": {},
   "source": [
    "**Challenge 8**"
   ]
  },
  {
   "cell_type": "code",
   "execution_count": 58,
   "metadata": {
    "collapsed": false
   },
   "outputs": [],
   "source": [
    "# Week 1\n",
    "MTA_wk1 = MTA_date_station_ts\n",
    "week1 = []\n",
    "for key in MTA_wk1['N134','R385','ROCKAWAY BLVD']:\n",
    "    week1 += [MTA_wk1['N134','R385','ROCKAWAY BLVD'][key]]\n",
    "    \n",
    "# Week 2\n",
    "MTA_time = {}\n",
    "for index, row in wk2.iterrows():\n",
    "    MTA_time.setdefault((row['C/A'],row['UNIT'],row['SCP'],row['STATION']),[]).append([dateutil.parser.parse(row['DATE'] + ' ' + row['TIME']),row['ENTRIES']])\n",
    "MTA_date = {}\n",
    "for key in MTA_time:\n",
    "    newList = []\n",
    "    for i in range(0,len(MTA_time[key]),6):\n",
    "        if i+5 < len(MTA_time[key]):\n",
    "            newList.append([MTA_time[key][i][0].date(), MTA_time[key][i+5][1] - MTA_time[key][i][1]])\n",
    "    MTA_date[key] = newList\n",
    "MTA_date_station = {}\n",
    "for key in MTA_date:\n",
    "    MTA_date_station.setdefault((key[0],key[1],key[3]),[]).append([key[2],MTA_date[key]])\n",
    "MTA_wk2 = {}\n",
    "for key in MTA_date_station:\n",
    "    ts = {}\n",
    "    for turnstile in MTA_date_station[key]:\n",
    "        for i in turnstile[1]:\n",
    "            ts.setdefault(i[0],0)\n",
    "            ts[i[0]] += i[1]\n",
    "    MTA_wk2[key] = ts\n",
    "week2 = []\n",
    "for key in MTA_wk2['N134','R385','ROCKAWAY BLVD']:\n",
    "    week2 += [MTA_wk2['N134','R385','ROCKAWAY BLVD'][key]]\n",
    "\n",
    "# Week 3\n",
    "MTA_time = {}\n",
    "for index, row in wk3.iterrows():\n",
    "    MTA_time.setdefault((row['C/A'],row['UNIT'],row['SCP'],row['STATION']),[]).append([dateutil.parser.parse(row['DATE'] + ' ' + row['TIME']),row['ENTRIES']])\n",
    "MTA_date = {}\n",
    "for key in MTA_time:\n",
    "    newList = []\n",
    "    for i in range(0,len(MTA_time[key]),6):\n",
    "        if i+5 < len(MTA_time[key]):\n",
    "            newList.append([MTA_time[key][i][0].date(), MTA_time[key][i+5][1] - MTA_time[key][i][1]])\n",
    "    MTA_date[key] = newList\n",
    "MTA_date_station = {}\n",
    "for key in MTA_date:\n",
    "    MTA_date_station.setdefault((key[0],key[1],key[3]),[]).append([key[2],MTA_date[key]])\n",
    "MTA_wk3 = {}\n",
    "for key in MTA_date_station:\n",
    "    ts = {}\n",
    "    for turnstile in MTA_date_station[key]:\n",
    "        for i in turnstile[1]:\n",
    "            ts.setdefault(i[0],0)\n",
    "            ts[i[0]] += i[1]\n",
    "    MTA_wk3[key] = ts\n",
    "week3 = []\n",
    "for key in MTA_wk3['N134','R385','ROCKAWAY BLVD']:\n",
    "    week3 += [MTA_wk3['N134','R385','ROCKAWAY BLVD'][key]]\n",
    "\n",
    "# Week 4\n",
    "MTA_time = {}\n",
    "for index, row in wk4.iterrows():\n",
    "    MTA_time.setdefault((row['C/A'],row['UNIT'],row['SCP'],row['STATION']),[]).append([dateutil.parser.parse(row['DATE'] + ' ' + row['TIME']),row['ENTRIES']])\n",
    "MTA_date = {}\n",
    "for key in MTA_time:\n",
    "    newList = []\n",
    "    for i in range(0,len(MTA_time[key]),6):\n",
    "        if i+5 < len(MTA_time[key]):\n",
    "            newList.append([MTA_time[key][i][0].date(), MTA_time[key][i+5][1] - MTA_time[key][i][1]])\n",
    "    MTA_date[key] = newList\n",
    "MTA_date_station = {}\n",
    "for key in MTA_date:\n",
    "    MTA_date_station.setdefault((key[0],key[1],key[3]),[]).append([key[2],MTA_date[key]])\n",
    "MTA_wk4 = {}\n",
    "for key in MTA_date_station:\n",
    "    ts = {}\n",
    "    for turnstile in MTA_date_station[key]:\n",
    "        for i in turnstile[1]:\n",
    "            ts.setdefault(i[0],0)\n",
    "            ts[i[0]] += i[1]\n",
    "    MTA_wk4[key] = ts\n",
    "week4 = []\n",
    "for key in MTA_wk4['N134','R385','ROCKAWAY BLVD']:\n",
    "    week4 += [MTA_wk4['N134','R385','ROCKAWAY BLVD'][key]]"
   ]
  },
  {
   "cell_type": "code",
   "execution_count": 60,
   "metadata": {
    "collapsed": false
   },
   "outputs": [
    {
     "data": {
      "text/plain": [
       "[<matplotlib.lines.Line2D at 0x123e45e90>]"
      ]
     },
     "execution_count": 60,
     "metadata": {},
     "output_type": "execute_result"
    },
    {
     "data": {
      "image/png": "[encoded data removed]",
      "text/plain": [
       "<matplotlib.figure.Figure at 0x1200ed810>"
      ]
     },
     "metadata": {},
     "output_type": "display_data"
    }
   ],
   "source": [
    "plt.plot(week1)\n",
    "plt.plot(week2)\n",
    "plt.plot(week3)\n",
    "plt.plot(week4)"
   ]
  },
  {
   "cell_type": "markdown",
   "metadata": {},
   "source": [
    "**Challenge 9**"
   ]
  },
  {
   "cell_type": "code",
   "execution_count": 64,
   "metadata": {
    "collapsed": false
   },
   "outputs": [],
   "source": [
    "total_ridership = {}\n",
    "for station in MTA_wk1:\n",
    "    total_ridership[station] = sum(MTA_wk1[station].values()) + sum(MTA_wk2[station].values()) + sum(MTA_wk3[station].values()) + sum(MTA_wk4[station].values())"
   ]
  },
  {
   "cell_type": "markdown",
   "metadata": {},
   "source": [
    "**Challenge 10**"
   ]
  },
  {
   "cell_type": "code",
   "execution_count": 81,
   "metadata": {
    "collapsed": true
   },
   "outputs": [],
   "source": [
    "stations = total_ridership.keys()"
   ]
  },
  {
   "cell_type": "code",
   "execution_count": 82,
   "metadata": {
    "collapsed": false
   },
   "outputs": [],
   "source": [
    "counts = total_ridership.values()"
   ]
  },
  {
   "cell_type": "code",
   "execution_count": 118,
   "metadata": {
    "collapsed": false
   },
   "outputs": [],
   "source": [
    "total_ridership_counts = sorted(total_ridership.values())[19:-9]  # remove errors: negative and large positive values"
   ]
  },
  {
   "cell_type": "code",
   "execution_count": 119,
   "metadata": {
    "collapsed": false
   },
   "outputs": [
    {
     "data": {
      "text/plain": [
       "(array([ 340.,  223.,   80.,   31.,   10.,    5.,    2.,    2.,    2.,    1.]),\n",
       " array([       0. ,   113678.8,   227357.6,   341036.4,   454715.2,\n",
       "          568394. ,   682072.8,   795751.6,   909430.4,  1023109.2,\n",
       "         1136788. ]),\n",
       " <a list of 10 Patch objects>)"
      ]
     },
     "execution_count": 119,
     "metadata": {},
     "output_type": "execute_result"
    },
    {
     "data": {
      "image/png": "[encoded data removed]",
      "text/plain": [
       "<matplotlib.figure.Figure at 0x12d7eaa50>"
      ]
     },
     "metadata": {},
     "output_type": "display_data"
    }
   ],
   "source": [
    "plt.hist(total_ridership_counts)"
   ]
  }
 ],
 "metadata": {
  "anaconda-cloud": {},
  "kernelspec": {
   "display_name": "Python [conda root]",
   "language": "python",
   "name": "conda-root-py"
  },
  "language_info": {
   "codemirror_mode": {
    "name": "ipython",
    "version": 2
   },
   "file_extension": ".py",
   "mimetype": "text/x-python",
   "name": "python",
   "nbconvert_exporter": "python",
   "pygments_lexer": "ipython2",
   "version": "2.7.12"
  }
 },
 "nbformat": 4,
 "nbformat_minor": 1
}
