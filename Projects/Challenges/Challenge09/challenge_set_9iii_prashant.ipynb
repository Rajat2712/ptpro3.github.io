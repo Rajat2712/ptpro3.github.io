{
 "cells": [
  {
   "cell_type": "markdown",
   "metadata": {},
   "source": [
    "```\n",
    "Topic:    Challenge Set 9 Part III\n",
    "Subject:  SQL\n",
    "Date:     02/20/2017\n",
    "Name:     Prashant Tatineni\n",
    "```"
   ]
  },
  {
   "cell_type": "code",
   "execution_count": 2,
   "metadata": {
    "collapsed": true
   },
   "outputs": [],
   "source": [
    "import sqlite3"
   ]
  },
  {
   "cell_type": "code",
   "execution_count": 3,
   "metadata": {
    "collapsed": false
   },
   "outputs": [],
   "source": [
    "db = sqlite3.connect('database.sqlite')"
   ]
  },
  {
   "cell_type": "code",
   "execution_count": 5,
   "metadata": {
    "collapsed": false
   },
   "outputs": [],
   "source": [
    "cursor = db.cursor()"
   ]
  },
  {
   "cell_type": "code",
   "execution_count": 8,
   "metadata": {
    "collapsed": false
   },
   "outputs": [
    {
     "data": {
      "text/plain": [
       "<sqlite3.Cursor at 0x106a1cd50>"
      ]
     },
     "execution_count": 8,
     "metadata": {},
     "output_type": "execute_result"
    }
   ],
   "source": [
    "cursor.execute(\"select name from sqlite_master where type='table'\")"
   ]
  },
  {
   "cell_type": "code",
   "execution_count": 9,
   "metadata": {
    "collapsed": false
   },
   "outputs": [
    {
     "name": "stdout",
     "output_type": "stream",
     "text": [
      "[(u'sqlite_sequence',), (u'Player_Attributes',), (u'Player',), (u'Match',), (u'League',), (u'Country',), (u'Team',), (u'Team_Attributes',)]\n"
     ]
    }
   ],
   "source": [
    "print(cursor.fetchall())"
   ]
  },
  {
   "cell_type": "code",
   "execution_count": 11,
   "metadata": {
    "collapsed": false
   },
   "outputs": [
    {
     "name": "stdout",
     "output_type": "stream",
     "text": [
      "[(1, 218353, 505942, u'2016-02-18 00:00:00', 67, 71, u'right', u'medium', u'medium', 49, 44, 71, 61, 44, 51, 45, 39, 64, 49, 60, 64, 59, 47, 65, 55, 58, 54, 76, 35, 71, 70, 45, 54, 48, 65, 69, 69, 6, 11, 10, 8, 8), (2, 218353, 505942, u'2015-11-19 00:00:00', 67, 71, u'right', u'medium', u'medium', 49, 44, 71, 61, 44, 51, 45, 39, 64, 49, 60, 64, 59, 47, 65, 55, 58, 54, 76, 35, 71, 70, 45, 54, 48, 65, 69, 69, 6, 11, 10, 8, 8), (3, 218353, 505942, u'2015-09-21 00:00:00', 62, 66, u'right', u'medium', u'medium', 49, 44, 71, 61, 44, 51, 45, 39, 64, 49, 60, 64, 59, 47, 65, 55, 58, 54, 76, 35, 63, 41, 45, 54, 48, 65, 66, 69, 6, 11, 10, 8, 8), (4, 218353, 505942, u'2015-03-20 00:00:00', 61, 65, u'right', u'medium', u'medium', 48, 43, 70, 60, 43, 50, 44, 38, 63, 48, 60, 64, 59, 46, 65, 54, 58, 54, 76, 34, 62, 40, 44, 53, 47, 62, 63, 66, 5, 10, 9, 7, 7), (5, 218353, 505942, u'2007-02-22 00:00:00', 61, 65, u'right', u'medium', u'medium', 48, 43, 70, 60, 43, 50, 44, 38, 63, 48, 60, 64, 59, 46, 65, 54, 58, 54, 76, 34, 62, 40, 44, 53, 47, 62, 63, 66, 5, 10, 9, 7, 7), (6, 189615, 155782, u'2016-04-21 00:00:00', 74, 76, u'left', u'high', u'medium', 80, 53, 58, 71, 40, 73, 70, 69, 68, 71, 79, 78, 78, 67, 90, 71, 85, 79, 56, 62, 68, 67, 60, 66, 59, 76, 75, 78, 14, 7, 9, 9, 12), (7, 189615, 155782, u'2016-04-07 00:00:00', 74, 76, u'left', u'high', u'medium', 80, 53, 58, 71, 32, 73, 70, 69, 68, 71, 79, 78, 78, 67, 90, 71, 85, 79, 56, 60, 68, 67, 60, 66, 59, 76, 75, 78, 14, 7, 9, 9, 12), (8, 189615, 155782, u'2016-01-07 00:00:00', 73, 75, u'left', u'high', u'medium', 79, 52, 57, 70, 29, 71, 68, 69, 68, 70, 79, 78, 78, 67, 90, 71, 84, 79, 56, 59, 67, 66, 58, 65, 59, 76, 75, 78, 14, 7, 9, 9, 12), (9, 189615, 155782, u'2015-12-24 00:00:00', 73, 75, u'left', u'high', u'medium', 79, 51, 57, 70, 29, 71, 68, 69, 68, 70, 79, 78, 78, 67, 90, 71, 84, 79, 56, 58, 67, 66, 58, 65, 59, 76, 75, 78, 14, 7, 9, 9, 12), (10, 189615, 155782, u'2015-12-17 00:00:00', 73, 75, u'left', u'high', u'medium', 79, 51, 57, 70, 29, 71, 68, 69, 68, 70, 79, 78, 78, 67, 90, 71, 84, 79, 56, 58, 67, 66, 58, 65, 59, 76, 75, 78, 14, 7, 9, 9, 12)]\n"
     ]
    }
   ],
   "source": [
    "cursor.execute(\"select * from Player_attributes limit 10;\")\n",
    "print(cursor.fetchall())"
   ]
  },
  {
   "cell_type": "markdown",
   "metadata": {
    "collapsed": true
   },
   "source": [
    "**1. Which team scored the most points when playing at home?**"
   ]
  },
  {
   "cell_type": "code",
   "execution_count": null,
   "metadata": {
    "collapsed": true
   },
   "outputs": [],
   "source": []
  },
  {
   "cell_type": "code",
   "execution_count": null,
   "metadata": {
    "collapsed": true
   },
   "outputs": [],
   "source": []
  },
  {
   "cell_type": "code",
   "execution_count": null,
   "metadata": {
    "collapsed": true
   },
   "outputs": [],
   "source": []
  },
  {
   "cell_type": "markdown",
   "metadata": {},
   "source": [
    "**2. Did this team also score the most points when playing away?**"
   ]
  },
  {
   "cell_type": "code",
   "execution_count": null,
   "metadata": {
    "collapsed": true
   },
   "outputs": [],
   "source": []
  },
  {
   "cell_type": "code",
   "execution_count": null,
   "metadata": {
    "collapsed": true
   },
   "outputs": [],
   "source": []
  },
  {
   "cell_type": "code",
   "execution_count": null,
   "metadata": {
    "collapsed": true
   },
   "outputs": [],
   "source": []
  },
  {
   "cell_type": "code",
   "execution_count": null,
   "metadata": {
    "collapsed": true
   },
   "outputs": [],
   "source": []
  },
  {
   "cell_type": "markdown",
   "metadata": {},
   "source": [
    "**3. How many matches resulted in a tie?**"
   ]
  },
  {
   "cell_type": "code",
   "execution_count": null,
   "metadata": {
    "collapsed": true
   },
   "outputs": [],
   "source": []
  },
  {
   "cell_type": "code",
   "execution_count": null,
   "metadata": {
    "collapsed": true
   },
   "outputs": [],
   "source": []
  },
  {
   "cell_type": "code",
   "execution_count": null,
   "metadata": {
    "collapsed": true
   },
   "outputs": [],
   "source": []
  },
  {
   "cell_type": "code",
   "execution_count": null,
   "metadata": {
    "collapsed": true
   },
   "outputs": [],
   "source": []
  },
  {
   "cell_type": "markdown",
   "metadata": {},
   "source": [
    "**4. How many players have Smith for their last name? How many have 'smith' anywhere in their name?**"
   ]
  },
  {
   "cell_type": "code",
   "execution_count": null,
   "metadata": {
    "collapsed": true
   },
   "outputs": [],
   "source": []
  },
  {
   "cell_type": "code",
   "execution_count": null,
   "metadata": {
    "collapsed": true
   },
   "outputs": [],
   "source": []
  },
  {
   "cell_type": "code",
   "execution_count": null,
   "metadata": {
    "collapsed": true
   },
   "outputs": [],
   "source": []
  },
  {
   "cell_type": "code",
   "execution_count": null,
   "metadata": {
    "collapsed": true
   },
   "outputs": [],
   "source": []
  },
  {
   "cell_type": "markdown",
   "metadata": {},
   "source": [
    "**5. What was the median tie score? Use the value determined in the previous question for the number of tie games. Hint: PostgreSQL does not have a median function. Instead, think about the steps required to calculate a median and use the WITH command to store stepwise results as a table and then operate on these results.**"
   ]
  },
  {
   "cell_type": "code",
   "execution_count": null,
   "metadata": {
    "collapsed": true
   },
   "outputs": [],
   "source": []
  },
  {
   "cell_type": "code",
   "execution_count": null,
   "metadata": {
    "collapsed": true
   },
   "outputs": [],
   "source": []
  },
  {
   "cell_type": "code",
   "execution_count": null,
   "metadata": {
    "collapsed": true
   },
   "outputs": [],
   "source": []
  },
  {
   "cell_type": "markdown",
   "metadata": {},
   "source": [
    "**6. What percentage of players prefer their left or right foot? Hint: Calculate either the right or left foot, whichever is easier based on how you setup the problem.**"
   ]
  },
  {
   "cell_type": "code",
   "execution_count": null,
   "metadata": {
    "collapsed": true
   },
   "outputs": [],
   "source": []
  },
  {
   "cell_type": "code",
   "execution_count": null,
   "metadata": {
    "collapsed": true
   },
   "outputs": [],
   "source": []
  },
  {
   "cell_type": "code",
   "execution_count": null,
   "metadata": {
    "collapsed": true
   },
   "outputs": [],
   "source": []
  }
 ],
 "metadata": {
  "anaconda-cloud": {},
  "kernelspec": {
   "display_name": "Python [conda root]",
   "language": "python",
   "name": "conda-root-py"
  },
  "language_info": {
   "codemirror_mode": {
    "name": "ipython",
    "version": 2
   },
   "file_extension": ".py",
   "mimetype": "text/x-python",
   "name": "python",
   "nbconvert_exporter": "python",
   "pygments_lexer": "ipython2",
   "version": "2.7.12"
  }
 },
 "nbformat": 4,
 "nbformat_minor": 1
}
